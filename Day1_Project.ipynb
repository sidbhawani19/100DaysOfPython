{
  "nbformat": 4,
  "nbformat_minor": 0,
  "metadata": {
    "colab": {
      "provenance": []
    },
    "kernelspec": {
      "name": "python3",
      "display_name": "Python 3"
    },
    "language_info": {
      "name": "python"
    }
  },
  "cells": [
    {
      "cell_type": "code",
      "execution_count": 1,
      "metadata": {
        "colab": {
          "base_uri": "https://localhost:8080/"
        },
        "id": "R8CLA2gUqn8w",
        "outputId": "aae6d334-af56-4c74-cf03-591fb0fd57ed"
      },
      "outputs": [
        {
          "output_type": "stream",
          "name": "stdout",
          "text": [
            "Welcome to Band Name Generator\n",
            "What's name of the city you grew up in?\n",
            "Jammu\n",
            "What's your pet name?\n",
            "Rocky\n",
            "Your band name could be Jammu Rocky\n"
          ]
        }
      ],
      "source": [
        "print(\"Welcome to Band Name Generator\")\n",
        "city=input(\"What's name of the city you grew up in?\\n\")\n",
        "pet=input(\"What's your pet name?\\n\")\n",
        "print(\"Your band name could be \"+ city + \" \" + pet)"
      ]
    }
  ]
}