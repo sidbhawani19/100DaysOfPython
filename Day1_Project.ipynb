{
  "nbformat": 4,
  "nbformat_minor": 0,
  "metadata": {
    "colab": {
      "provenance": []
    },
    "kernelspec": {
      "name": "python3",
      "display_name": "Python 3"
    },
    "language_info": {
      "name": "python"
    }
  },
  "cells": [
    {
      "cell_type": "code",
      "execution_count": 2,
      "metadata": {
        "colab": {
          "base_uri": "https://localhost:8080/"
        },
        "id": "R8CLA2gUqn8w",
        "outputId": "176c77f8-360b-41f9-dea9-0a956e688b0c"
      },
      "outputs": [
        {
          "output_type": "stream",
          "name": "stdout",
          "text": [
            "Welcome to Band Name Generator\n",
            "What's name of the city you grew up in?\n",
            "Kathua\n",
            "What's your pet name?\n",
            "Chaplin\n",
            "Your band name could be Kathua Chaplin\n"
          ]
        }
      ],
      "source": [
        "print(\"Welcome to Band Name Generator\")\n",
        "city=input(\"What's name of the city you grew up in?\\n\")\n",
        "pet=input(\"What's your pet name?\\n\")\n",
        "print(\"Your band name could be \"+ city + \" \" + pet)"
      ]
    }
  ]
}