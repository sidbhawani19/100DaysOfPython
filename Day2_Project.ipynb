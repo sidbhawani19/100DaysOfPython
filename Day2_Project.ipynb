{
  "nbformat": 4,
  "nbformat_minor": 0,
  "metadata": {
    "colab": {
      "provenance": []
    },
    "kernelspec": {
      "name": "python3",
      "display_name": "Python 3"
    },
    "language_info": {
      "name": "python"
    }
  },
  "cells": [
    {
      "cell_type": "code",
      "execution_count": 40,
      "metadata": {
        "colab": {
          "base_uri": "https://localhost:8080/"
        },
        "id": "0auLHwPMpgBq",
        "outputId": "aac7c51f-c06f-4b95-c956-e3974bb4969b"
      },
      "outputs": [
        {
          "output_type": "stream",
          "name": "stdout",
          "text": [
            "Welcome to the tip calculator!\n",
            "What was the total bill? $39.8\n",
            "What percentage of tip you would you like to give? 10, 12 or 15? 12\n",
            "How many people to split the bill? 2\n",
            "Each person should pay: $22.29\n"
          ]
        }
      ],
      "source": [
        "print(\"Welcome to the tip calculator!\")\n",
        "bill=float(input(\"What was the total bill? $\"))\n",
        "tip=int(input(\"What percentage of tip you would you like to give? 10, 12 or 15? \"))\n",
        "people=int(input(\"How many people to split the bill? \"))\n",
        "final_amount=\"{:.2f}\".format((tip/100 * bill + bill)/people)\n",
        "print(f\"Each person should pay: ${final_amount}\")"
      ]
    }
  ]
}